{
  "nbformat": 4,
  "nbformat_minor": 0,
  "metadata": {
    "colab": {
      "provenance": [],
      "toc_visible": true,
      "authorship_tag": "ABX9TyMIxaNw6ocWYf1pVE+cTnDg",
      "include_colab_link": true
    },
    "kernelspec": {
      "name": "python3",
      "display_name": "Python 3"
    },
    "language_info": {
      "name": "python"
    },
    "accelerator": "GPU"
  },
  "cells": [
    {
      "cell_type": "markdown",
      "metadata": {
        "id": "view-in-github",
        "colab_type": "text"
      },
      "source": [
        "<a href=\"https://colab.research.google.com/github/maryamccn/Maryam-12180242/blob/main/Mid_term.ipynb\" target=\"_parent\"><img src=\"https://colab.research.google.com/assets/colab-badge.svg\" alt=\"Open In Colab\"/></a>"
      ]
    },
    {
      "cell_type": "code",
      "source": [
        "from sqlalchemy import create_engine\n",
        "my_conn = create_engine(\"sqlite:////content/my_db.db\")"
      ],
      "metadata": {
        "id": "8Wwn8cf8QTb4"
      },
      "execution_count": 6,
      "outputs": []
    },
    {
      "cell_type": "code",
      "source": [
        "[] # creating Vehicle table\n",
        "from sqlalchemy.exc import SQLAlchemyError\n",
        "try:\n",
        "     my_conn.execute('''\n",
        "      CREATE TABLE IF NOT EXISTS vehicle (vehicle_id integer primary key,\n",
        "      reg_id text,\n",
        "      manufacturer text,\n",
        "      model text,\n",
        "      color text,\n",
        "      current_odometer integer,\n",
        "      passng_capacity integer\n",
        "      );''')\n",
        "\n",
        "     print(\"Vehicle Table created successfully\")\n",
        "except SQLAlchemyError as e:\n",
        "   #print (e)\n",
        "   error=str(e._dict_['orig'])\n",
        "   print(error)"
      ],
      "metadata": {
        "colab": {
          "base_uri": "https://localhost:8080/"
        },
        "id": "gs0LA9yOQVWZ",
        "outputId": "ca3072d9-14ee-4487-de69-2ce57713ca8f"
      },
      "execution_count": 7,
      "outputs": [
        {
          "output_type": "stream",
          "name": "stdout",
          "text": [
            "Vehicle Table created successfully\n"
          ]
        }
      ]
    },
    {
      "cell_type": "code",
      "source": [
        "[] #add records to vehicle table\n",
        "r_set=my_conn.execute('''INSERT INTO `vehicle`\n",
        "(`vehicle_id`, `reg_id`, `manufacturer`, `model`, `color`, `current_odometer`, `passng_capacity`) VALUES\n",
        "( 1, '2001 ABC', 'Volvo', 'XC90', 'silver', 4, 4),\n",
        "( 2, '2006 AFD', 'Kia', 'K7', 'black', 2, 4);''')"
      ],
      "metadata": {
        "id": "LiJ7OXe7QZYL"
      },
      "execution_count": 8,
      "outputs": []
    },
    {
      "cell_type": "code",
      "source": [
        "[] # creating driver table\n",
        "from sqlalchemy.exc import SQLAlchemyError\n",
        "try:\n",
        "     my_conn.execute('''\n",
        "      CREATE TABLE IF NOT EXISTS driver (driver_id integer primary key,\n",
        "      nam text,\n",
        "      lic_number text,\n",
        "      language text,\n",
        "      clear_num integer\n",
        "      );''')\n",
        "\n",
        "     print(\"driver Table created successfully\")\n",
        "except SQLAlchemyError as e:\n",
        "   #print (e)\n",
        "   error=str(e._dict_['orig'])\n",
        "   print(error)"
      ],
      "metadata": {
        "colab": {
          "base_uri": "https://localhost:8080/"
        },
        "id": "Zcpbny_nQeuw",
        "outputId": "6a5422d7-9199-411e-ab80-5259c648d249"
      },
      "execution_count": 9,
      "outputs": [
        {
          "output_type": "stream",
          "name": "stdout",
          "text": [
            "driver Table created successfully\n"
          ]
        }
      ]
    },
    {
      "cell_type": "code",
      "source": [
        "[] # creating Game_Official table\n",
        "from sqlalchemy.exc import SQLAlchemyError\n",
        "try:\n",
        "     my_conn.execute('''\n",
        "      CREATE TABLE IF NOT EXISTS Game_Official (Game_Official_id integer primary key,\n",
        "      city_id integer,\n",
        "      cityname text,\n",
        "      role text,\n",
        "      language text\n",
        "      );''')\n",
        "\n",
        "     print(\"Game_Official Table created successfully\")\n",
        "except SQLAlchemyError as e:\n",
        "   #print (e)\n",
        "   error=str(e._dict_['orig'])\n",
        "   print(error)"
      ],
      "metadata": {
        "colab": {
          "base_uri": "https://localhost:8080/"
        },
        "id": "nDkZ5d-eQit5",
        "outputId": "3d957469-988a-423f-ee18-699b04722434"
      },
      "execution_count": 10,
      "outputs": [
        {
          "output_type": "stream",
          "name": "stdout",
          "text": [
            "Game_Official Table created successfully\n"
          ]
        }
      ]
    },
    {
      "cell_type": "code",
      "source": [
        "[] #add records to Game_Official Table\n",
        "r_set=my_conn.execute('''INSERT INTO `Game_Official`\n",
        "(`Game_Official_id`, `city_id`, `cityname`, `role`, `language` ) VALUES\n",
        "( 1, 78, 'Tokyo', 'athelete', 'japanese'),\n",
        "( 2, 53, 'London', 'coach', 'english');''')"
      ],
      "metadata": {
        "id": "Plh3iEjVQmVS"
      },
      "execution_count": 11,
      "outputs": []
    },
    {
      "cell_type": "code",
      "source": [
        "[] # creating Country table\n",
        "from sqlalchemy.exc import SQLAlchemyError\n",
        "try:\n",
        "     my_conn.execute('''\n",
        "      CREATE TABLE IF NOT EXISTS Country (Country_id integer primary key,\n",
        "      name text,\n",
        "      language text\n",
        "      );''')\n",
        "\n",
        "     print(\"Country Table created successfully\")\n",
        "except SQLAlchemyError as e:\n",
        "   #print (e)\n",
        "   error=str(e._dict_['orig'])\n",
        "   print(error)"
      ],
      "metadata": {
        "colab": {
          "base_uri": "https://localhost:8080/"
        },
        "id": "O6GaYScaQniv",
        "outputId": "487fc730-ce94-47c6-acd9-afd20b818657"
      },
      "execution_count": 12,
      "outputs": [
        {
          "output_type": "stream",
          "name": "stdout",
          "text": [
            "Country Table created successfully\n"
          ]
        }
      ]
    },
    {
      "cell_type": "code",
      "source": [
        "[] #add records to Country Table\n",
        "r_set=my_conn.execute('''INSERT INTO `Country`\n",
        "(`Country_id`, `name`, `language` ) VALUES\n",
        "( 1, 'Japan', 'japanese'),\n",
        "( 2, 'UK', 'english');''')"
      ],
      "metadata": {
        "id": "pI-SNlRBQskl"
      },
      "execution_count": 13,
      "outputs": []
    },
    {
      "cell_type": "code",
      "source": [
        "[] # creating trip table\n",
        "from sqlalchemy.exc import SQLAlchemyError\n",
        "try:\n",
        "     my_conn.execute('''\n",
        "      CREATE TABLE IF NOT EXISTS trip (trip_id integer primary key,\n",
        "      bookingref text,\n",
        "      tripstart time,\n",
        "      tripfinish time\n",
        "      );''')\n",
        "\n",
        "     print(\"trip created successfully\")\n",
        "except SQLAlchemyError as e:\n",
        "   #print (e)\n",
        "   error=str(e._dict_['orig'])\n",
        "   print(error)"
      ],
      "metadata": {
        "colab": {
          "base_uri": "https://localhost:8080/"
        },
        "id": "4nw9Z4oRQvrF",
        "outputId": "ddf11970-9004-41f1-f0c9-3b3d09a9c053"
      },
      "execution_count": 14,
      "outputs": [
        {
          "output_type": "stream",
          "name": "stdout",
          "text": [
            "trip created successfully\n"
          ]
        }
      ]
    },
    {
      "cell_type": "code",
      "source": [
        "[] #add records to trip Table\n",
        "r_set=my_conn.execute('''INSERT INTO `trip`\n",
        "(`trip_id`, `bookingref`, `tripstart`, `tripfinish`) VALUES\n",
        "( 1, 'GFY789', 7, 9),\n",
        "( 2, 'GHR543', 8, 11);''')"
      ],
      "metadata": {
        "id": "RfOC4IE4Qygk"
      },
      "execution_count": 15,
      "outputs": []
    },
    {
      "cell_type": "code",
      "source": [
        "[] # creating pickup table\n",
        "from sqlalchemy.exc import SQLAlchemyError\n",
        "try:\n",
        "     my_conn.execute('''\n",
        "      CREATE TABLE IF NOT EXISTS pickup (pickup_id integer primary key,\n",
        "      adresat text,\n",
        "      city text,\n",
        "      loctype text\n",
        "      );''')\n",
        "\n",
        "     print(\"pickup Table created successfully\")\n",
        "except SQLAlchemyError as e:\n",
        "   #print (e)\n",
        "   error=str(e._dict_['orig'])\n",
        "   print(error)"
      ],
      "metadata": {
        "colab": {
          "base_uri": "https://localhost:8080/"
        },
        "id": "EvuI24i8Q1gK",
        "outputId": "99fc3790-4c48-43e8-85bc-9e3248e604cf"
      },
      "execution_count": 16,
      "outputs": [
        {
          "output_type": "stream",
          "name": "stdout",
          "text": [
            "pickup Table created successfully\n"
          ]
        }
      ]
    },
    {
      "cell_type": "code",
      "source": [
        "[] #add records to trip Table\n",
        "r_set=my_conn.execute('''INSERT INTO `pickup`\n",
        "(`pickup_id`, `adresat`, `city`, `loctype`) VALUES\n",
        "( 1, 'StRane', 'Busan', 'hotel'),\n",
        "( 2, 'StShine', 'Seoul', 'motel');''')"
      ],
      "metadata": {
        "id": "K_aozt_oQ4oc"
      },
      "execution_count": 17,
      "outputs": []
    },
    {
      "cell_type": "code",
      "source": [
        "[] # creating dropoff table\n",
        "from sqlalchemy.exc import SQLAlchemyError\n",
        "try:\n",
        "     my_conn.execute('''\n",
        "      CREATE TABLE IF NOT EXISTS dropoff (dropoff_id integer primary key,\n",
        "      adresatt text,\n",
        "      cityt text,\n",
        "      loctypet text\n",
        "      );''')\n",
        "\n",
        "     print(\"dropoff Table created successfully\")\n",
        "except SQLAlchemyError as e:\n",
        "   #print (e)\n",
        "   error=str(e._dict_['orig'])\n",
        "   print(error)"
      ],
      "metadata": {
        "colab": {
          "base_uri": "https://localhost:8080/"
        },
        "id": "46lfBtfvQ8AM",
        "outputId": "99e08154-ca16-447a-f49b-0435ef5404f2"
      },
      "execution_count": 18,
      "outputs": [
        {
          "output_type": "stream",
          "name": "stdout",
          "text": [
            "dropoff Table created successfully\n"
          ]
        }
      ]
    },
    {
      "cell_type": "code",
      "source": [
        "[] #add records to trip Table\n",
        "r_set=my_conn.execute('''INSERT INTO `dropoff`\n",
        "(`dropoff_id`, `adresatt`, `cityt`, `loctypet`) VALUES\n",
        "( 1, 'StRane', 'Busan', 'hotel'),\n",
        "( 2, 'StShine', 'Seoul', 'motel');''')"
      ],
      "metadata": {
        "id": "Q30_WCDWQ_Qi"
      },
      "execution_count": 19,
      "outputs": []
    },
    {
      "cell_type": "markdown",
      "source": [
        "# New Section"
      ],
      "metadata": {
        "id": "vhCHaaIESewv"
      }
    }
  ]
}